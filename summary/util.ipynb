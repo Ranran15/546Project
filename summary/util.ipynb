{
 "cells": [
  {
   "cell_type": "code",
   "execution_count": 17,
   "metadata": {},
   "outputs": [
    {
     "name": "stdout",
     "output_type": "stream",
     "text": [
      "True\n",
      "False\n"
     ]
    }
   ],
   "source": [
    "# --\n",
    "# --  Copyright (c) 2015, Facebook, Inc.\n",
    "# --  All rights reserved.\n",
    "# --\n",
    "# --  This source code is licensed under the BSD-style license found in the\n",
    "# --  LICENSE file in the root directory of this source tree. An additional grant\n",
    "# --  of patent rights can be found in the PATENTS file in the same directory.\n",
    "# --\n",
    "# --  Author: Alexander M Rush <srush@seas.harvard.edu>\n",
    "# --          Sumit Chopra <spchopra@fb.com>\n",
    "# --          Jason Weston <jase@fb.com>\n",
    "\n",
    "# -- The utility tool box\n",
    "import random\n",
    "util = {}\n",
    "\n",
    "def string_shortfloat(t):\n",
    "    return '%2.4g'.format(t)\n",
    "\n",
    "\n",
    "# function util.string_shortfloat(t)\n",
    "#     return string.format('%2.4g', t)\n",
    "# end\n",
    "\n",
    "def shuffleTable(t):\n",
    "    rand = random.random()\n",
    "    iterations = len(t)\n",
    "    for i in range(iterations-1,1,-1):\n",
    "        j = random.randint(0,i)\n",
    "        t[i],t[j] = t[j], t[i]\n",
    "\n",
    "# function util.shuffleTable(t)\n",
    "#     local rand = math.random\n",
    "#     local iterations = #t\n",
    "#     local j\n",
    "#     for i = iterations, 2, -1 do\n",
    "#        j = rand(i)\n",
    "#        t[i], t[j] = t[j], t[i]\n",
    "#     end\n",
    "# end\n",
    "\n",
    "def string_split(s, c):\n",
    "    if not c:\n",
    "        c=' '\n",
    "    temp = s.split(c)\n",
    "    return [x for x in temp if x]\n",
    "#print(string_split(\"helloworld\",'l'))\n",
    "# function util.string_split(s, c)\n",
    "#    if c==nil then c=' ' end\n",
    "#    local t={}\n",
    "#    while true do\n",
    "#        local f=s:find(c)\n",
    "#        if f==nil then\n",
    "#            if s:len()>0 then\n",
    "#                table.insert(t, s)\n",
    "#            end\n",
    "#            break\n",
    "#        end\n",
    "#        if f > 1 then\n",
    "#           table.insert(t, s:sub(1,f-1))\n",
    "#        end\n",
    "#        s=s:sub(f+1,s:len())\n",
    "#    end\n",
    "#    return t\n",
    "# end\n",
    "\n",
    "def add(t,key):\n",
    "    cur = t\n",
    "    for i in range(len(key)):\n",
    "        if key[i] not in new_cur:\n",
    "            cur[key[i]]={}\n",
    "            new_cur = cur[key[i]]\n",
    "        cur = new_cur\n",
    "    cur[key[len(key)-1]]=True\n",
    "\n",
    "# function util.add(tab, key)\n",
    "#    local cur = tab\n",
    "\n",
    "#    for i = 1, #key-1 do\n",
    "#       local new_cur = cur[key[i]]\n",
    "#       if new_cur == nil then\n",
    "#          cur[key[i]] = {}\n",
    "#          new_cur = cur[key[i]]\n",
    "#       end\n",
    "#       cur = new_cur\n",
    "#    end\n",
    "#    cur[key[#key]] = true\n",
    "# end\n",
    "\n",
    "def has(t,key):\n",
    "    cur = t\n",
    "    for i in range(len(key)):\n",
    "        if not (key[i] in cur):\n",
    "            return False\n",
    "    return True\n",
    "\n",
    "# print(has({1:1,2:2,3:3},[2,3]))\n",
    "# print(has({1:1,2:2,3:3},[2,4]))\n",
    "# function util.has(tab, key)\n",
    "#    local cur = tab\n",
    "#    for i = 1, #key do\n",
    "#       cur = cur[key[i]]\n",
    "#       if cur == nil then\n",
    "#          return false\n",
    "#       end\n",
    "#    end\n",
    "#    return true\n",
    "# end\n",
    "\n",
    "def isnan()\n",
    "# function util.isnan(x)\n",
    "#     return x ~= x\n",
    "# end\n",
    "\n",
    "# return util\n"
   ]
  },
  {
   "cell_type": "code",
   "execution_count": 7,
   "metadata": {},
   "outputs": [
    {
     "data": {
      "text/plain": [
       "'%2.4g'"
      ]
     },
     "execution_count": 7,
     "metadata": {},
     "output_type": "execute_result"
    }
   ],
   "source": [
    "string_shortfloat('abcd')"
   ]
  },
  {
   "cell_type": "code",
   "execution_count": null,
   "metadata": {},
   "outputs": [],
   "source": []
  }
 ],
 "metadata": {
  "kernelspec": {
   "display_name": "Python 3",
   "language": "python",
   "name": "python3"
  },
  "language_info": {
   "codemirror_mode": {
    "name": "ipython",
    "version": 3
   },
   "file_extension": ".py",
   "mimetype": "text/x-python",
   "name": "python",
   "nbconvert_exporter": "python",
   "pygments_lexer": "ipython3",
   "version": "3.6.4"
  }
 },
 "nbformat": 4,
 "nbformat_minor": 2
}
